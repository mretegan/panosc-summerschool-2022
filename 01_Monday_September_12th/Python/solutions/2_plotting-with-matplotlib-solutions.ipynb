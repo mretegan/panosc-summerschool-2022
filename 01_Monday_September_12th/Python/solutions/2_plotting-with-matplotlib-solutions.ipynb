{
 "cells": [
  {
   "cell_type": "markdown",
   "metadata": {},
   "source": [
    "# Plotting with Matplotlib - Solutions"
   ]
  },
  {
   "cell_type": "code",
   "execution_count": null,
   "metadata": {},
   "outputs": [],
   "source": [
    "import numpy as np\n",
    "import matplotlib.pyplot as plt"
   ]
  },
  {
   "cell_type": "code",
   "execution_count": null,
   "metadata": {},
   "outputs": [],
   "source": [
    "%matplotlib widget"
   ]
  },
  {
   "cell_type": "markdown",
   "metadata": {},
   "source": [
    "## A simple 1D line plot"
   ]
  },
  {
   "cell_type": "code",
   "execution_count": null,
   "metadata": {},
   "outputs": [],
   "source": [
    "# Data for plotting\n",
    "t = np.linspace(0.0, 2.0, 100)\n",
    "s = 1 + np.sin(2 * np.pi * t)\n",
    "\n",
    "# Create the Figure and Axes in one go using the `subplots` function.\n",
    "# The first two arguments of the subplots function are the number of rows and columns, respectively.\n",
    "fig, ax = plt.subplots(1, 1)\n",
    "\n",
    "# Make a simple x,y line plot on out axes object\n",
    "ax.plot(t, s, color=\"red\", lw=4, ls=\"dashed\")\n",
    "\n",
    "# # Uncomment the next 2 lines for errorbars\n",
    "# e = np.random.random(100) * 0.3\n",
    "# ax.errorbar(t, s, yerr=e)\n",
    "\n",
    "# Decorate the axes with axis labels and title\n",
    "ax.set(xlabel='time (s)', ylabel='voltage (mV)',\n",
    "       title='About as simple as it gets, folks')\n",
    "ax.grid()"
   ]
  },
  {
   "cell_type": "markdown",
   "metadata": {},
   "source": [
    "<div class=\"alert alert-block alert-info\">\n",
    "    <b>Exercise:</b>\n",
    "    <br>\n",
    "    - Look at the documentation and try to add a grid to the axes to obtain <img src=\"https://matplotlib.org/_images/sphx_glr_simple_plot_001.png\" width=\"300px\"/><br>\n",
    "    - Change the line color to red, the line thickness to 4 and the line style to dashed.<br>\n",
    "    - Add some random y error bars.\n",
    "</div>"
   ]
  },
  {
   "cell_type": "markdown",
   "metadata": {},
   "source": [
    "## Multiple subplots in one figure"
   ]
  },
  {
   "cell_type": "code",
   "execution_count": null,
   "metadata": {},
   "outputs": [],
   "source": [
    "x1 = np.linspace(0.0, 5.0)\n",
    "x2 = np.linspace(0.0, 2.0)\n",
    "y1 = np.cos(2 * np.pi * x1) * np.exp(-x1)\n",
    "y2 = np.cos(2 * np.pi * x2)\n",
    "\n",
    "fig, ax = plt.subplots(2, 2) # note here that ax is now a list of axes\n",
    "ax[0][0].plot(x1, y1, 'o-')\n",
    "ax[0][0].set_title('A tale of 4 subplots')\n",
    "ax[0][0].set_ylabel('Damped oscillation')\n",
    "\n",
    "ax[0][1].plot(x1, y1, 'o-')\n",
    "ax[0][1].set_title('A zoomed plot')\n",
    "ax[0][1].set_ylabel('Damped oscillation')\n",
    "ax[0][1].set_xlim([0, 1])\n",
    "\n",
    "ax[1][0].plot(x2, y2, '.-')\n",
    "ax[1][0].set_xlabel('time (s)')\n",
    "ax[1][0].set_ylabel('Undamped')\n",
    "\n",
    "ax[1][1].plot(x2, y2, '.-')\n",
    "ax[1][1].set_xlabel('time (s)')\n",
    "ax[1][1].set_ylabel('Undamped')\n",
    "ax[1][1].set_xlim([1, 2])\n",
    "ax[1][1].set_ylim([-1, 0])\n",
    "\n",
    "# Adjust spacing between subplots so `ax1` title and `ax0` tick labels\n",
    "# don't overlap\n",
    "fig.tight_layout()"
   ]
  },
  {
   "cell_type": "markdown",
   "metadata": {},
   "source": [
    "<div class=\"alert alert-block alert-info\">\n",
    "    <b>Exercise:</b><br>\n",
    "Try adding two more subplots on the right hand side of the existing ones to have a 2x2 grid of plots. The new subplots should show a zoom onto a particular area of the left subplots.\n",
    "</div>"
   ]
  },
  {
   "cell_type": "markdown",
   "metadata": {},
   "source": [
    "## 2D image/heatmap with uniformly sized pixels"
   ]
  },
  {
   "cell_type": "code",
   "execution_count": null,
   "metadata": {},
   "outputs": [],
   "source": [
    "N = 100\n",
    "M = 50\n",
    "x = np.arange(N+1)\n",
    "y = np.arange(M+1)\n",
    "z = np.random.random([M, N])\n",
    "\n",
    "fig, ax = plt.subplots()\n",
    "im = ax.imshow(z, origin=\"lower\", extent=[x[0], x[-1], y[0], y[-1]],\n",
    "               aspect=\"auto\", cmap=\"magma\", vmin=0.2, vmax=0.8)\n",
    "cb = plt.colorbar(im) # adds the colorbar: we specify that it applies to the `im` object\n",
    "cb.ax.set_ylabel(\"Counts\")\n",
    "ax.set_xlabel(\"x coordinate\")\n",
    "ax.set_ylabel(\"y coordinate\")\n",
    "ax.set_title(\"A 2D image\")"
   ]
  },
  {
   "cell_type": "markdown",
   "metadata": {},
   "source": [
    "<div class=\"alert alert-block alert-info\">\n",
    "    <b>Exercise:</b><br>\n",
    "- Change the colormap to one of the many pre-defined <a href=\"https://matplotlib.org/3.1.1/gallery/color/colormap_reference.html\">colormaps</a> that ship with matplotlib.\n",
    "<br>\n",
    "- In a second step, try to set the colorbar limits to [0.2, 0.8].\n",
    "</div>"
   ]
  },
  {
   "cell_type": "markdown",
   "metadata": {},
   "source": [
    "## 2D image/heatmap with non-uniformly sized pixels"
   ]
  },
  {
   "cell_type": "code",
   "execution_count": null,
   "metadata": {},
   "outputs": [],
   "source": [
    "N = 5000\n",
    "M = 2000\n",
    "x = np.arange(N+1)**2\n",
    "y = np.arange(M+1)\n",
    "z = np.random.random([M, N])\n",
    "\n",
    "fig, ax = plt.subplots()\n",
    "pcmesh = ax.pcolormesh(x, y, z)\n",
    "cb = plt.colorbar(pcmesh)\n",
    "cb.ax.set_ylabel(\"Counts\")\n",
    "ax.set_xlabel(\"x coordinate\")\n",
    "ax.set_ylabel(\"y coordinate\")\n",
    "ax.set_title(\"A 2D image with non-equal sized pixels\")"
   ]
  },
  {
   "cell_type": "markdown",
   "metadata": {},
   "source": [
    "<div class=\"alert alert-block alert-info\">\n",
    "    <b>Exercise:</b>\n",
    "    <br>\n",
    "    The `pcolormesh` function is slow for large datasets/images. See this for yourself by making the data above much larger and try to re-plot.\n",
    "</div>"
   ]
  },
  {
   "cell_type": "markdown",
   "metadata": {},
   "source": [
    "## 2D filled/empty contour plot"
   ]
  },
  {
   "cell_type": "code",
   "execution_count": null,
   "metadata": {},
   "outputs": [],
   "source": [
    "N = 100\n",
    "xx = np.linspace(1.0, 5.0, N)\n",
    "yy = np.linspace(1.0, 5.0, N)\n",
    "x, y = np.meshgrid(xx, yy)\n",
    "z = np.sin(x)**10 + np.cos(10 + y*x) * np.cos(x)\n",
    "\n",
    "fig, ax = plt.subplots(3, 1, figsize=(9, 9))\n",
    "\n",
    "pcmesh = ax[0].pcolormesh(x, y, z, cmap=\"RdBu\")\n",
    "cb1 = plt.colorbar(pcmesh, ax=ax[0])\n",
    "cb1.ax.set_ylabel(\"Counts\")\n",
    "ax[0].set_title(\"pcolormesh\")\n",
    "\n",
    "contf = ax[1].contourf(x, y, z, cmap=\"RdBu\", levels=np.linspace(-1.2, 1.2, 30))\n",
    "cb2 = plt.colorbar(contf, ax=ax[1])\n",
    "cb2.ax.set_ylabel(\"Counts\")\n",
    "ax[1].set_title(\"filled contours\")\n",
    "\n",
    "cont = ax[2].contour(x, y, z, cmap=\"RdBu\")\n",
    "cb3 = plt.colorbar(cont, ax=ax[2])\n",
    "cb3.ax.set_ylabel(\"Counts\")\n",
    "ax[2].set_title(\"contours\")\n",
    "\n",
    "# Adjust spacing between subplots so `ax1` title and `ax0` tick labels\n",
    "# don't overlap\n",
    "fig.tight_layout()"
   ]
  },
  {
   "cell_type": "markdown",
   "metadata": {},
   "source": [
    "<div class=\"alert alert-block alert-info\">\n",
    "    <b>Exercise:</b>\n",
    "    <br>\n",
    "    Change the number of filled contours to 30 in the middle panel.\n",
    "</div>"
   ]
  },
  {
   "cell_type": "markdown",
   "metadata": {},
   "source": [
    "## Histogram"
   ]
  },
  {
   "cell_type": "code",
   "execution_count": null,
   "metadata": {},
   "outputs": [],
   "source": [
    "y = np.random.normal(50.0, scale=20.0, size=1000)\n",
    "\n",
    "fig, ax = plt.subplots()\n",
    "ax.hist(y, bins=np.logspace(0, np.log10(150.0), 30))\n",
    "ax.set_xlabel(\"Some x label [m]\")\n",
    "ax.set_ylabel(\"A fancy y label [kg]\")\n",
    "ax.set_title(\"A 1D histogram plot\")"
   ]
  },
  {
   "cell_type": "markdown",
   "metadata": {},
   "source": [
    "<div class=\"alert alert-block alert-info\">\n",
    "    <b>Exercise:</b>\n",
    "    <br>\n",
    "    Change the bins to be 30 log-spaced bins between 1 and 150.\n",
    "</div>"
   ]
  },
  {
   "cell_type": "markdown",
   "metadata": {},
   "source": [
    "## 2D scatter plot with different symbol sizes and colors"
   ]
  },
  {
   "cell_type": "code",
   "execution_count": null,
   "metadata": {},
   "outputs": [],
   "source": [
    "N = 100\n",
    "x = np.random.random(N)\n",
    "y = np.random.random(N)\n",
    "z = np.random.random(N)\n",
    "s = 300.0 * np.random.random(N)\n",
    "\n",
    "fig, ax = plt.subplots()\n",
    "scat = ax.scatter(x, y, c=z, s=s, marker='s', alpha=0.5)\n",
    "cb = plt.colorbar(scat)\n",
    "cb.ax.set_ylabel(\"The colored quantity\")\n",
    "ax.set_xlabel(\"x coordinate\")\n",
    "ax.set_ylabel(\"y coordinate\")\n",
    "ax.set_title(\"A 2D scatter plot\")\n",
    "\n",
    "# produce a legend with a cross section of sizes from the scatter\n",
    "handles, labels = scat.legend_elements(prop=\"sizes\")\n",
    "legend = ax.legend(handles, labels, loc=\"upper right\", title=\"Sizes\")"
   ]
  },
  {
   "cell_type": "markdown",
   "metadata": {},
   "source": [
    "<div class=\"alert alert-block alert-info\">\n",
    "    <b>Exercise:</b>\n",
    "    <br>\n",
    "    Change the scatter markers from circles to squares and change their opacity to 50%.\n",
    "</div>"
   ]
  },
  {
   "cell_type": "markdown",
   "metadata": {},
   "source": [
    "## Quiver (vectors) and stream plots"
   ]
  },
  {
   "cell_type": "code",
   "execution_count": null,
   "metadata": {},
   "outputs": [],
   "source": [
    "N = 100\n",
    "w = 5.0\n",
    "xx = np.linspace(-w, w, N)\n",
    "x, y = np.meshgrid(xx, xx)\n",
    "u = -1.0 - x**2 + y\n",
    "v = -1.0 + x - y**2\n",
    "\n",
    "fig, ax = plt.subplots(1, 2, figsize=(9, 4))\n",
    "\n",
    "vmag = np.sqrt(u**2 + v**2)\n",
    "\n",
    "M = 4\n",
    "# Here we plot only 1 in every M^2 points to avoid over-crowding the figure\n",
    "ax[0].imshow(vmag, extent=[xx[0], xx[-1], xx[0], xx[-1]])\n",
    "ax[0].quiver(x[::M, ::M], y[::M, ::M], u[::M, ::M], v[::M, ::M], scale=200.0)\n",
    "ax[0].set_title('Quiver (vector field)')\n",
    "\n",
    "strm = ax[1].streamplot(x, y, u, v, color=vmag)\n",
    "cb = plt.colorbar(strm.lines)\n",
    "cb.ax.set_ylabel(\"Velocity magnitude\")\n",
    "ax[1].set_title('Streamlines')"
   ]
  },
  {
   "cell_type": "markdown",
   "metadata": {},
   "source": [
    "<div class=\"alert alert-block alert-info\">\n",
    "    <b>Exercise:</b>\n",
    "    <br>\n",
    "    - Overplot the arrows or streamlines onto an image or contour plot of the velocity magnitude.\n",
    "    <br>\n",
    "    - Change the color of the arrows or streamlines to reflect the velocity magnitude via a colormap.\n",
    "</div>"
   ]
  },
  {
   "cell_type": "markdown",
   "metadata": {},
   "source": [
    "## Patches: drawing geometric shapes"
   ]
  },
  {
   "cell_type": "code",
   "execution_count": null,
   "metadata": {},
   "outputs": [],
   "source": [
    "import matplotlib.patches as mpatches\n",
    "\n",
    "fig, ax = plt.subplots(figsize=(6, 6))\n",
    "ax.add_patch(mpatches.Rectangle([0.0, 0.0], 1.0, 2.0))\n",
    "ax.add_patch(mpatches.Circle([3.0, 3.0], 1.6, color=\"#FF5733\"))\n",
    "ax.add_patch(mpatches.Polygon([[1.0, 1.5], [3.0, 3.0], [4.0, 0.5]], color=\"#4CFF33\"))\n",
    "ax.arrow(1.0, 1.0, 2, 3, width=0.1, color=\"cyan\")\n",
    "ax.text(0, 4, \"My text\")\n",
    "ax.set_xlim([-0.5, 5.0])\n",
    "ax.set_ylim([-0.5, 5.0])"
   ]
  },
  {
   "cell_type": "markdown",
   "metadata": {},
   "source": [
    "<div class=\"alert alert-block alert-info\">\n",
    "    <b>Exercise:</b>\n",
    "    <br>\n",
    "    Add an arrow and some text in the figure above.\n",
    "</div>"
   ]
  },
  {
   "cell_type": "markdown",
   "metadata": {},
   "source": [
    "## Grouped bar chart with labels"
   ]
  },
  {
   "cell_type": "code",
   "execution_count": null,
   "metadata": {},
   "outputs": [],
   "source": [
    "labels = ['G1', 'G2', 'G3', 'G4', 'G5']\n",
    "cats_means = [20, 34, 30, 35, 27]\n",
    "dogs_means = [25, 32, 34, 20, 25]\n",
    "\n",
    "x = np.arange(len(labels))  # the label locations\n",
    "width = 0.35  # the width of the bars\n",
    "\n",
    "fig, ax = plt.subplots()\n",
    "rects1 = ax.bar(x - width/2, cats_means, width, label='Cats')\n",
    "rects2 = ax.bar(x + width/2, dogs_means, width, label='Dogs')\n",
    "\n",
    "# Add some text for labels, title and custom x-axis tick labels, etc.\n",
    "ax.set_ylabel('Scores')\n",
    "ax.set_title('Scores by group and animal')\n",
    "ax.set_xticks(x)\n",
    "ax.set_xticklabels(labels)\n",
    "ax.legend()\n",
    "\n",
    "def autolabel(rects):\n",
    "    \"\"\"Attach a text label above each bar in *rects*, displaying its height.\"\"\"\n",
    "    for rect in rects:\n",
    "        height = rect.get_height()\n",
    "        ax.annotate('{}'.format(height),\n",
    "                    xy=(rect.get_x() + rect.get_width() / 2, height),\n",
    "                    xytext=(0, 3),  # 3 points vertical offset\n",
    "                    textcoords=\"offset points\",\n",
    "                    ha='center', va='bottom')\n",
    "\n",
    "\n",
    "autolabel(rects1)\n",
    "autolabel(rects2)"
   ]
  },
  {
   "cell_type": "markdown",
   "metadata": {},
   "source": [
    "<div class=\"alert alert-block alert-info\">\n",
    "    <b>Exercise:</b>\n",
    "    <br>\n",
    "    Attach a text label above each bar in rects1 and rects2, displaying its height.\n",
    "</div>"
   ]
  },
  {
   "cell_type": "markdown",
   "metadata": {},
   "source": [
    "## Pie chart"
   ]
  },
  {
   "cell_type": "code",
   "execution_count": null,
   "metadata": {},
   "outputs": [],
   "source": [
    "# Pie chart, where the slices will be ordered and plotted counter-clockwise:\n",
    "labels = 'Frogs', 'Hogs', 'Dogs', 'Logs'\n",
    "sizes = [15, 30, 45, 10]\n",
    "\n",
    "fig1, ax = plt.subplots(2, 2)\n",
    "\n",
    "ax[0][0].pie(sizes, explode=(0.1, 0, 0, 0), labels=labels, autopct='%1.1f%%',\n",
    "        shadow=True, startangle=90)\n",
    "ax[0][0].axis('equal')\n",
    "\n",
    "ax[0][1].pie(sizes, explode=(0, 0.1, 0, 0), labels=labels, autopct='%1.1f%%',\n",
    "        shadow=True, startangle=90)\n",
    "ax[0][1].axis('equal')\n",
    "\n",
    "ax[1][0].pie(sizes, explode=(0, 0, 0.1, 0), labels=labels, autopct='%1.1f%%',\n",
    "        shadow=True, startangle=90)\n",
    "ax[1][0].axis('equal')\n",
    "\n",
    "ax[1][1].pie(sizes, explode=(0, 0, 0, 0.1), labels=labels, autopct='%1.1f%%',\n",
    "        shadow=True, startangle=90)\n",
    "ax[1][1].axis('equal')"
   ]
  },
  {
   "cell_type": "markdown",
   "metadata": {},
   "source": [
    "<div class=\"alert alert-block alert-info\">\n",
    "    <b>Exercise:</b>\n",
    "    <br>\n",
    "    Create 4 subplots where a different section is exploded in each subplot.\n",
    "</div>"
   ]
  },
  {
   "cell_type": "markdown",
   "metadata": {},
   "source": [
    "## Log plots"
   ]
  },
  {
   "cell_type": "code",
   "execution_count": null,
   "metadata": {},
   "outputs": [],
   "source": [
    "# Data for plotting\n",
    "t = np.arange(0.01, 20.0, 0.01)\n",
    "\n",
    "# Create figure\n",
    "fig, ((ax1, ax2), (ax3, ax4)) = plt.subplots(2, 2)\n",
    "\n",
    "# log y axis\n",
    "ax1.semilogy(t, np.exp(-t / 5.0))\n",
    "ax1.set(title='semilogy')\n",
    "ax1.grid()\n",
    "\n",
    "# log x axis\n",
    "y = np.sin(2 * np.pi * t)\n",
    "ax2.semilogx(t, y)\n",
    "ax2.set(title='semilogx')\n",
    "ax2.grid()\n",
    "\n",
    "# log x and y axis\n",
    "ax3.loglog(t, 20 * np.exp(-t / 10.0), basex=2)\n",
    "ax3.set(title='loglog base 2 on x')\n",
    "ax3.grid()\n",
    "\n",
    "# Image with log x axis\n",
    "ax4.imshow(np.random.random([20, 20]), extent=[1, 100.0, 0, 19])\n",
    "ax4.set_xscale(\"log\", nonposx='clip')\n",
    "ax4.set(title='log image')\n",
    "\n",
    "fig.tight_layout()"
   ]
  },
  {
   "cell_type": "markdown",
   "metadata": {},
   "source": [
    "<div class=\"alert alert-block alert-info\">\n",
    "    <b>Exercise:</b>\n",
    "    <br>\n",
    "    Create a 2D image where the x axis is logarithmic.\n",
    "</div>"
   ]
  },
  {
   "cell_type": "markdown",
   "metadata": {},
   "source": [
    "## Controlling axis placement\n",
    "\n",
    "This example will illustrate how to place axes in exact position with respect to the figure, using the `add_axes()` function. This is useful for placing side panels around a central figure for instance."
   ]
  },
  {
   "cell_type": "code",
   "execution_count": null,
   "metadata": {},
   "outputs": [],
   "source": [
    "N = 1000\n",
    "nbins = 50\n",
    "x = np.random.normal(0.0, scale=20.0, size=N)\n",
    "y = np.random.normal(0.0, scale=20.0, size=N)\n",
    "\n",
    "dx = 0.65\n",
    "xymin = 0.1\n",
    "fig = plt.figure(figsize=(8, 8))\n",
    "# Use: add_axes([x_lower_left, y_lower_left, size_x, size_y])\n",
    "ax1 = fig.add_axes([xymin, xymin, dx, dx]) # Central figure\n",
    "# Share the axes with sharex and sharey\n",
    "ax2 = fig.add_axes([xymin+dx, xymin, 0.2, dx], sharey=ax1) # Right histogram\n",
    "ax3 = fig.add_axes([xymin, xymin+dx, dx, 0.2], sharex=ax1) # Top histogram\n",
    "\n",
    "ax1.scatter(x, y)\n",
    "ax2.hist(y, bins=nbins, orientation='horizontal') # Note \"horizontal\" here refers to horizontal bars\n",
    "ax3.hist(x, bins=nbins)\n",
    "\n",
    "# Set the ticks on the histogram axes to the right and top to avoid overlap on main panel\n",
    "ax2.yaxis.tick_right()\n",
    "ax3.xaxis.tick_top()\n",
    "\n",
    "# Inset\n",
    "ax4 = fig.add_axes([0.6, 0.6, 0.1, 0.1])\n",
    "ax4.scatter(x, y)\n",
    "ax4.set_xlim([-5, 5])\n",
    "ax4.set_ylim([-5, 5])\n",
    "ax4.set_title(\"Zoom\")"
   ]
  },
  {
   "cell_type": "markdown",
   "metadata": {},
   "source": [
    "<div class=\"alert alert-block alert-info\">\n",
    "    <b>Exercise:</b>\n",
    "    <br>\n",
    "    - Create a new set of axes inside the central panel (inset) that shows a zoom onto the central area of the main panel.\n",
    "    <br>\n",
    "    - Connect the axes of the main panel and subplots so that zooming in on the central panel also zooms in on the histograms (hint: search for \"shared\" axes).\n",
    "</div>"
   ]
  },
  {
   "cell_type": "markdown",
   "metadata": {},
   "source": [
    "## Interactive 2D heatmap with slider through 3D data cube\n",
    "\n",
    "`matplotlib` ships with its own set of [widgets](https://matplotlib.org/stable/api/widgets_api.html) which allow to create very useful and capable interactive data visualizations. In this example, we plot a 2D slice through a 3D data cube, and use a slider to navigate the 3rd dimension, updating the slice as we move the slider (note that performance can vary depending on if you are running the notebook kernel locally or remotely)."
   ]
  },
  {
   "cell_type": "code",
   "execution_count": null,
   "metadata": {},
   "outputs": [],
   "source": [
    "from matplotlib.widgets import Slider\n",
    " \n",
    "data = np.random.random([10, 10, 10])\n",
    "idx = 0\n",
    "\n",
    "fig = plt.figure()\n",
    "ax = fig.add_subplot(111)\n",
    "fig.subplots_adjust(bottom=0.15)\n",
    "\n",
    "im_object = ax.imshow(data[:, :, idx], interpolation='nearest')\n",
    "\n",
    "ax.set_xlabel(\"x coordinate\")\n",
    "ax.set_ylabel(\"y coordinate\")\n",
    "ax.set_title(\"2D heatmap with slider\")\n",
    "cb = plt.colorbar(im_object)\n",
    "cb.ax.set_ylabel(\"Temperature\")\n",
    "\n",
    "slider_ax = fig.add_axes([0.23, 0.02, 0.56, 0.04])\n",
    "slider = Slider(slider_ax, 'Depth', 0, data.shape[2]-1, valinit=idx)\n",
    "\n",
    "# Allow moving the slider with the mouse wheel\n",
    "def onscroll(event):\n",
    "        idx = int(round(slider.val))\n",
    "        if event.button == \"up\":\n",
    "            idx += 1\n",
    "        else:\n",
    "            idx -= 1\n",
    "        idx = np.clip(idx, 0, data.shape[-1] - 1)\n",
    "        slider.set_val(idx)\n",
    "\n",
    "def update_depth(val):\n",
    "    idx = int(round(slider.val))\n",
    "    im_object.set_data(data[:, :, idx])\n",
    "    return\n",
    "\n",
    "slider.on_changed(update_depth)\n",
    "\n",
    "fig.canvas.mpl_connect(\"scroll_event\", onscroll)"
   ]
  },
  {
   "cell_type": "markdown",
   "metadata": {},
   "source": [
    "<div class=\"alert alert-block alert-info\">\n",
    "    <b>Exercise:</b>\n",
    "    <br>\n",
    "    Connect a mouse scroll event to the figure canvas to also navigate the 3rd dimension with the mouse wheel (see matplotlib's <a href=\"https://matplotlib.org/3.1.1/users/event_handling.html\">event handling</a>).\n",
    "</div>"
   ]
  },
  {
   "cell_type": "markdown",
   "metadata": {},
   "source": [
    "## Interactive linked scatter and histogram\n",
    "\n",
    "In this example, we use the `RectangleSelector` to select points in a 2D scatter plots that represent the x and y coordinates of some data points. The points also have a 3rd dimension/property, e.g. temperature. The temperature of all the points are histogrammed in the right hand side panel. The histogram for only the selected points is overlayed with a red color and updated every time the selector is moved/resized."
   ]
  },
  {
   "cell_type": "code",
   "execution_count": null,
   "metadata": {},
   "outputs": [],
   "source": [
    "from matplotlib.widgets import RectangleSelector, LassoSelector\n",
    "from matplotlib.path import Path\n",
    "\n",
    "fig, ax = plt.subplots(1, 2, figsize=(9, 5))\n",
    "N = 1000\n",
    "x = np.random.normal(0.0, scale=20.0, size=N)\n",
    "y = np.random.normal(0.0, scale=20.0, size=N)\n",
    "# Make a bimodal distribution for the temperature\n",
    "z = np.concatenate([np.random.normal(-50.0, scale=20.0, size=N//2),\n",
    "                    np.random.normal(50.0, scale=20.0, size=N//2)])\n",
    "ax[0].set_xlabel(\"X coordinate\")\n",
    "ax[0].set_ylabel(\"Y coordinate\")\n",
    "ax[1].set_xlabel(\"Temperature\")\n",
    "ax[1].set_ylabel(\"Counts\")\n",
    "# Make scatter plot on the left\n",
    "ax[0].scatter(x, y, alpha=.7)\n",
    "# Make histogram on the right, with well defined bins (they will be re-used later)\n",
    "bins = np.linspace(np.amin(z)-1.0, np.amax(z)+1.0, 50)\n",
    "ax[1].hist(z, bins=bins)\n",
    "# Save number of patches so that we know how many to delete\n",
    "npatches = len(ax[1].patches)\n",
    "\n",
    "xys = ax[0].collections[0].get_offsets()\n",
    "def update_select(verts):\n",
    "    print(\"hello\")\n",
    "    path = Path(verts)\n",
    "    select = np.nonzero(path.contains_points(xys))[0]\n",
    "    ax[1].patches = ax[1].patches[:npatches]\n",
    "    # Draw new red histogram from selected points\n",
    "    ax[1].hist(z[select], bins=bins, alpha=0.5, color='r')\n",
    "selector = LassoSelector(ax[0], onselect=update_select, useblit=False,\n",
    "                         lineprops={'color': 'red', 'linewidth': 4})"
   ]
  },
  {
   "cell_type": "markdown",
   "metadata": {},
   "source": [
    "<div class=\"alert alert-block alert-info\">\n",
    "    <b>Exercise:</b>\n",
    "    <br>\n",
    "    - Try to replace the RectangleSelector with the <a href=\"https://matplotlib.org/3.1.0/api/widgets_api.html?highlight=widgets#matplotlib.widgets.LassoSelector\">LassoSelector</a> or a different kind of selector (hint: in Jupyter notebooks, one has to make sure that useblit=False for the LassoSelector).\n",
    "    <br>\n",
    "    - Try to add a RectangleSelector in the histogram panel that would highlight scatter points in the left panel.\n",
    "</div>"
   ]
  },
  {
   "cell_type": "code",
   "execution_count": null,
   "metadata": {},
   "outputs": [],
   "source": [
    "from matplotlib.widgets import RectangleSelector\n",
    "\n",
    "fig, ax = plt.subplots(1, 2, figsize=(9, 5))\n",
    "N = 1000\n",
    "x = np.random.normal(0.0, scale=20.0, size=N)\n",
    "y = np.random.normal(0.0, scale=20.0, size=N)\n",
    "# Make a bimodal distribution for the temperature\n",
    "z = np.concatenate([np.random.normal(-50.0, scale=20.0, size=N//2),\n",
    "                    np.random.normal(50.0, scale=20.0, size=N//2)])\n",
    "\n",
    "ax[0].set_xlabel(\"X coordinate\")\n",
    "ax[0].set_ylabel(\"Y coordinate\")\n",
    "ax[1].set_xlabel(\"Temperature\")\n",
    "ax[1].set_ylabel(\"Counts\")\n",
    "\n",
    "# Make scatter plot on the left\n",
    "ax[0].scatter(x, y, alpha=.7)\n",
    "# Copy the colors of the scatter point to match the size of the data arrays N\n",
    "fc = np.broadcast_to(ax[0].collections[0].get_facecolors()[0], (N, 4)).copy()\n",
    "# Save original R value of RGBA\n",
    "red_original = fc[0, 0]\n",
    "\n",
    "# Make histogram on the right, with well defined bins (they will be re-used later)\n",
    "bins = np.linspace(np.amin(z)-1.0, np.amax(z)+1.0, 50)\n",
    "ax[1].hist(z, bins=bins)\n",
    "\n",
    "# Save number of patches so that we know how many to delete\n",
    "npatches = len(ax[1].patches)\n",
    "\n",
    "# Function to be called when rectangle selector is updated\n",
    "def update_scatter(eclick, erelease):\n",
    "    x1, w1 = eclick.xdata, eclick.ydata\n",
    "    x2, w2 = erelease.xdata, erelease.ydata\n",
    "    # Find all points that lie inside rectangle selector limits\n",
    "    select = np.where(np.logical_and(z >= x1, z <= x2))\n",
    "    # Reset all facecolors\n",
    "    fc[:, 0] = red_original\n",
    "    # Make selection red\n",
    "    fc[:, 0][select] = 1\n",
    "    ax[0].collections[0].set_facecolors(fc)\n",
    "\n",
    "# Create rectangle selector and install callback to update function\n",
    "selector = RectangleSelector(ax[1], update_scatter,\n",
    "                             drawtype='box', useblit=True,\n",
    "                             button=[1, 3],  # don't use middle button\n",
    "                             interactive=True)"
   ]
  },
  {
   "cell_type": "code",
   "execution_count": null,
   "metadata": {},
   "outputs": [],
   "source": []
  }
 ],
 "metadata": {
  "hide_input": false,
  "kernelspec": {
   "display_name": "Python 3",
   "language": "python",
   "name": "python3"
  },
  "language_info": {
   "codemirror_mode": {
    "name": "ipython",
    "version": 3
   },
   "file_extension": ".py",
   "mimetype": "text/x-python",
   "name": "python",
   "nbconvert_exporter": "python",
   "pygments_lexer": "ipython3",
   "version": "3.8.8"
  },
  "toc": {
   "base_numbering": 1,
   "nav_menu": {},
   "number_sections": true,
   "sideBar": true,
   "skip_h1_title": false,
   "title_cell": "Table of Contents",
   "title_sidebar": "Contents",
   "toc_cell": false,
   "toc_position": {},
   "toc_section_display": true,
   "toc_window_display": false
  },
  "varInspector": {
   "cols": {
    "lenName": 16,
    "lenType": 16,
    "lenVar": 40
   },
   "kernels_config": {
    "python": {
     "delete_cmd_postfix": "",
     "delete_cmd_prefix": "del ",
     "library": "var_list.py",
     "varRefreshCmd": "print(var_dic_list())"
    },
    "r": {
     "delete_cmd_postfix": ") ",
     "delete_cmd_prefix": "rm(",
     "library": "var_list.r",
     "varRefreshCmd": "cat(var_dic_list()) "
    }
   },
   "types_to_exclude": [
    "module",
    "function",
    "builtin_function_or_method",
    "instance",
    "_Feature"
   ],
   "window_display": false
  }
 },
 "nbformat": 4,
 "nbformat_minor": 4
}
