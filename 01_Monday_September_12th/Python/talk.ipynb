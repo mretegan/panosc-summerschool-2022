{
 "cells": [
  {
   "cell_type": "markdown",
   "id": "alternative-insured",
   "metadata": {},
   "source": [
    "# Python introduction\n",
    "Quick talk to bring you up to speed on using Python"
   ]
  },
  {
   "cell_type": "markdown",
   "id": "wooden-arkansas",
   "metadata": {
    "slideshow": {
     "slide_type": "slide"
    }
   },
   "source": [
    "# The Python language\n",
    "- High level language (powerful but not fast/efficient)\n",
    "- Dynamically typed (no need for declarations)\n",
    "- Easy import of code (incredibly important for scientific collaboration)"
   ]
  },
  {
   "cell_type": "markdown",
   "id": "brutal-boost",
   "metadata": {
    "slideshow": {
     "slide_type": "slide"
    }
   },
   "source": [
    "## Dynaically typed\n",
    "Variables in python do not have a type, but the value held by them do."
   ]
  },
  {
   "cell_type": "code",
   "execution_count": null,
   "id": "norwegian-bradford",
   "metadata": {},
   "outputs": [],
   "source": [
    "a = \"A string\"\n",
    "a = 37\n",
    "a = False\n",
    "a = [12, 13, 14]"
   ]
  },
  {
   "cell_type": "code",
   "execution_count": null,
   "id": "greater-allergy",
   "metadata": {},
   "outputs": [],
   "source": [
    "print(a)"
   ]
  },
  {
   "cell_type": "markdown",
   "id": "filled-opposition",
   "metadata": {
    "slideshow": {
     "slide_type": "slide"
    }
   },
   "source": [
    "## Overview of some basic types\n",
    "- Some types are mutable and others are immutable\n",
    "    - Mutable types can be changed after creation\n",
    "    - Immutable types can not be changed after creation"
   ]
  },
  {
   "cell_type": "markdown",
   "id": "fantastic-syntax",
   "metadata": {
    "slideshow": {
     "slide_type": "slide"
    }
   },
   "source": [
    "## Numbers\n",
    "- Integers (int) and decimal (float)\n",
    "- Numbers are immutable"
   ]
  },
  {
   "cell_type": "code",
   "execution_count": null,
   "id": "proof-oregon",
   "metadata": {},
   "outputs": [],
   "source": [
    "a = 3\n",
    "b = 37.2\n",
    "\n",
    "print(a, b)"
   ]
  },
  {
   "cell_type": "markdown",
   "id": "facial-cursor",
   "metadata": {
    "slideshow": {
     "slide_type": "slide"
    }
   },
   "source": [
    "## Strings\n",
    "- Can be with created with \" or '\n",
    "- Strings are immutable"
   ]
  },
  {
   "cell_type": "code",
   "execution_count": null,
   "id": "fluid-voltage",
   "metadata": {},
   "outputs": [],
   "source": [
    "s = \"Here is a string\"\n",
    "d = 'And another string'\n",
    "k = f\"Special fString that can contain values {a}\"\n",
    "print(s, d, k)"
   ]
  },
  {
   "cell_type": "code",
   "execution_count": null,
   "id": "southern-azerbaijan",
   "metadata": {},
   "outputs": [],
   "source": [
    "long_string = \"\"\"One can have\n",
    "multi line strings\n",
    "with triple double quotes\"\"\"\n",
    "print(long_string)"
   ]
  },
  {
   "cell_type": "markdown",
   "id": "adverse-wheat",
   "metadata": {
    "slideshow": {
     "slide_type": "slide"
    }
   },
   "source": [
    "## Lists\n",
    "- Defined with brackets [ ] and comma separated elements\n",
    "- Lists are mutable, can be changed after definition"
   ]
  },
  {
   "cell_type": "code",
   "execution_count": null,
   "id": "comparative-niagara",
   "metadata": {},
   "outputs": [],
   "source": [
    "L = [1, 2, 3, 4]"
   ]
  },
  {
   "cell_type": "code",
   "execution_count": null,
   "id": "fifty-annex",
   "metadata": {},
   "outputs": [],
   "source": [
    "L[0] = 10\n",
    "print(L)"
   ]
  },
  {
   "cell_type": "code",
   "execution_count": null,
   "id": "first-richmond",
   "metadata": {},
   "outputs": [],
   "source": [
    "print(L[:])"
   ]
  },
  {
   "cell_type": "code",
   "execution_count": null,
   "id": "egyptian-treasure",
   "metadata": {},
   "outputs": [],
   "source": [
    "print(L[1:2])"
   ]
  },
  {
   "cell_type": "markdown",
   "id": "aggressive-mississippi",
   "metadata": {
    "slideshow": {
     "slide_type": "slide"
    }
   },
   "source": [
    "## Tuples\n",
    "- Tuples are like lists, but immutable\n",
    "- Defined with parenthesis instead of brackets, always include at least one comma"
   ]
  },
  {
   "cell_type": "code",
   "execution_count": null,
   "id": "front-cedar",
   "metadata": {},
   "outputs": [],
   "source": [
    "T = (3, 8, \"Ten\")\n",
    "print(T)"
   ]
  },
  {
   "cell_type": "code",
   "execution_count": null,
   "id": "adjustable-beverage",
   "metadata": {},
   "outputs": [],
   "source": [
    "T[2] = 10\n",
    "print(T)"
   ]
  },
  {
   "cell_type": "markdown",
   "id": "noble-syntax",
   "metadata": {
    "slideshow": {
     "slide_type": "slide"
    }
   },
   "source": [
    "## Dictionaries\n",
    "- Powerful type that indexes information with immutable (hashable) types\n",
    "- Are mutable"
   ]
  },
  {
   "cell_type": "code",
   "execution_count": null,
   "id": "fitting-dancing",
   "metadata": {},
   "outputs": [],
   "source": [
    "d = {\"1\": 283, \"shelf\": \"hat\", \"door\": [1, 2, 3]}\n",
    "print(d[\"shelf\"])"
   ]
  },
  {
   "cell_type": "code",
   "execution_count": null,
   "id": "pleasant-composite",
   "metadata": {},
   "outputs": [],
   "source": [
    "d[\"window\"] = 8"
   ]
  },
  {
   "cell_type": "code",
   "execution_count": null,
   "id": "formed-surfing",
   "metadata": {
    "scrolled": true
   },
   "outputs": [],
   "source": [
    "d[[59, 60]] = 127"
   ]
  },
  {
   "cell_type": "markdown",
   "id": "spectacular-energy",
   "metadata": {
    "slideshow": {
     "slide_type": "slide"
    }
   },
   "source": [
    "## Getting help\n",
    "- type: returns type\n",
    "- help: provides help on type"
   ]
  },
  {
   "cell_type": "code",
   "execution_count": null,
   "id": "mechanical-shower",
   "metadata": {},
   "outputs": [],
   "source": [
    "a = \"A string\"\n",
    "type(a)"
   ]
  },
  {
   "cell_type": "code",
   "execution_count": null,
   "id": "likely-wisdom",
   "metadata": {},
   "outputs": [],
   "source": [
    "help(type(a))"
   ]
  },
  {
   "cell_type": "markdown",
   "id": "vanilla-spanking",
   "metadata": {
    "slideshow": {
     "slide_type": "slide"
    }
   },
   "source": [
    "## Everything is an object\n",
    "- Every variable in Python is an object\n",
    "- Every value in Python is an object\n",
    "- A class is the 'template' for an object (and classes are objects too)\n",
    "\n",
    "\n",
    "- An object can have methods"
   ]
  },
  {
   "cell_type": "code",
   "execution_count": null,
   "id": "magnetic-taxation",
   "metadata": {},
   "outputs": [],
   "source": [
    "a = \"A string\"\n",
    "print(a)"
   ]
  },
  {
   "cell_type": "code",
   "execution_count": null,
   "id": "enhanced-hurricane",
   "metadata": {},
   "outputs": [],
   "source": [
    "print(a.find(\"st\"))\n",
    "print(a.isascii())"
   ]
  },
  {
   "cell_type": "code",
   "execution_count": null,
   "id": "coated-skill",
   "metadata": {},
   "outputs": [],
   "source": []
  },
  {
   "cell_type": "markdown",
   "id": "sapphire-matthew",
   "metadata": {
    "slideshow": {
     "slide_type": "slide"
    }
   },
   "source": [
    "## Operators\n",
    "- Standard math: + - * /\n",
    "- Divide and round down to integer: //\n",
    "- Power operator: ** "
   ]
  },
  {
   "cell_type": "code",
   "execution_count": null,
   "id": "secure-purpose",
   "metadata": {},
   "outputs": [],
   "source": [
    "a = 5\n",
    "b = 2\n",
    "print(a + b)\n"
   ]
  },
  {
   "cell_type": "code",
   "execution_count": null,
   "id": "electric-recovery",
   "metadata": {},
   "outputs": [],
   "source": [
    "5 // 2"
   ]
  },
  {
   "cell_type": "code",
   "execution_count": null,
   "id": "going-statistics",
   "metadata": {},
   "outputs": [],
   "source": [
    "3**2"
   ]
  },
  {
   "cell_type": "markdown",
   "id": "located-price",
   "metadata": {
    "slideshow": {
     "slide_type": "slide"
    }
   },
   "source": [
    "## Operators can be surprising\n",
    "- Any object can have its own behavior with the operators"
   ]
  },
  {
   "cell_type": "code",
   "execution_count": null,
   "id": "following-action",
   "metadata": {},
   "outputs": [],
   "source": [
    "a = \"part 1\"\n",
    "b = \"end\"\n",
    "a + b"
   ]
  },
  {
   "cell_type": "code",
   "execution_count": null,
   "id": "hidden-alexander",
   "metadata": {},
   "outputs": [],
   "source": [
    "\"my string\".capitalize()"
   ]
  },
  {
   "cell_type": "code",
   "execution_count": null,
   "id": "polyphonic-entrepreneur",
   "metadata": {},
   "outputs": [],
   "source": []
  },
  {
   "cell_type": "markdown",
   "id": "amazing-third",
   "metadata": {
    "slideshow": {
     "slide_type": "slide"
    }
   },
   "source": [
    "## if statements\n",
    "- Conditional execution of code\n",
    "- Remember the colon :\n",
    "- Indent with 4 spaces (part of the language)\n",
    "- if statement can have additional parts\n",
    "    - else\n",
    "    - elif: elseif"
   ]
  },
  {
   "cell_type": "code",
   "execution_count": null,
   "id": "loose-norwegian",
   "metadata": {},
   "outputs": [],
   "source": [
    "A = 5\n",
    "if A == 5:\n",
    "    print(\"A was indeed 5\")"
   ]
  },
  {
   "cell_type": "markdown",
   "id": "operating-award",
   "metadata": {
    "slideshow": {
     "slide_type": "slide"
    }
   },
   "source": [
    "## Logical operators\n",
    "- *and* / *or* / *not*\n",
    "- < / <= / > / >= / =="
   ]
  },
  {
   "cell_type": "code",
   "execution_count": null,
   "id": "divided-lambda",
   "metadata": {},
   "outputs": [],
   "source": [
    "A = 5\n",
    "if A > 2 and A < 10:\n",
    "    print(\"A was between 2 and 10\")"
   ]
  },
  {
   "cell_type": "markdown",
   "id": "partial-meeting",
   "metadata": {
    "slideshow": {
     "slide_type": "slide"
    }
   },
   "source": [
    "## for loops\n",
    "- Do something for each element\n",
    "- Often use range(N)\n",
    "- Remember the colon and indent"
   ]
  },
  {
   "cell_type": "code",
   "execution_count": null,
   "id": "narrative-weekend",
   "metadata": {},
   "outputs": [],
   "source": [
    "L = [1, \"second\", False]\n",
    "for element in L:\n",
    "    print(2*element)"
   ]
  },
  {
   "cell_type": "code",
   "execution_count": null,
   "id": "consecutive-screen",
   "metadata": {},
   "outputs": [],
   "source": [
    "for index, element in enumerate(L):\n",
    "    print(f\"index was: {index}. double the element was {2*element}\")"
   ]
  },
  {
   "cell_type": "markdown",
   "id": "adopted-dubai",
   "metadata": {
    "slideshow": {
     "slide_type": "slide"
    }
   },
   "source": [
    "## Functions\n",
    "- Use *def* keyword to define functions\n",
    "- Can have default values, but only after all required arguments"
   ]
  },
  {
   "cell_type": "code",
   "execution_count": null,
   "id": "iraqi-demand",
   "metadata": {},
   "outputs": [],
   "source": [
    "def add(argument_1, argument_2):\n",
    "    result = argument_1 + argument_2\n",
    "    return result\n",
    "\n",
    "add(5, 10)"
   ]
  },
  {
   "cell_type": "code",
   "execution_count": null,
   "id": "scientific-butter",
   "metadata": {},
   "outputs": [],
   "source": [
    "my_function = add\n",
    "my_function(\"Two \", \"Strings\")"
   ]
  },
  {
   "cell_type": "markdown",
   "id": "fluid-facial",
   "metadata": {
    "slideshow": {
     "slide_type": "slide"
    }
   },
   "source": [
    "## Exceptions\n",
    "- When something unexpected happens\n",
    "- Exceptions can be caught"
   ]
  },
  {
   "cell_type": "code",
   "execution_count": null,
   "id": "finished-local",
   "metadata": {},
   "outputs": [],
   "source": [
    "5/\"Maybe\""
   ]
  },
  {
   "cell_type": "code",
   "execution_count": null,
   "id": "aboriginal-watson",
   "metadata": {},
   "outputs": [],
   "source": [
    "try:\n",
    "    5/\"Maybe\"\n",
    "except(TypeError):\n",
    "    print(\"There was a TypeError\")\n",
    "except:\n",
    "    print(\"That didn't work\")"
   ]
  },
  {
   "cell_type": "markdown",
   "id": "later-wonder",
   "metadata": {
    "slideshow": {
     "slide_type": "slide"
    }
   },
   "source": [
    "## Writing and reading from files\n",
    "- with syntax handles closing the file when work done\n",
    "- can open file in read mode (\"r\"), write mode (\"w\") and append mode (\"a\")"
   ]
  },
  {
   "cell_type": "code",
   "execution_count": null,
   "id": "fitting-ireland",
   "metadata": {},
   "outputs": [],
   "source": [
    "with open(\"new_file.txt\", \"w\") as f:\n",
    "    print(5281, file=f)\n",
    "    print(\"another line\", file=f)"
   ]
  },
  {
   "cell_type": "markdown",
   "id": "fourth-catering",
   "metadata": {
    "slideshow": {
     "slide_type": "slide"
    }
   },
   "source": [
    "## Importing packages\n",
    "One of the greatest strengths of Python is how easy it is to import and work with packages\n",
    "- Package need to be installed on system to be imported\n",
    "- Can import just parts\n",
    "- Can import with shorter name using \"as\" syntax"
   ]
  },
  {
   "cell_type": "code",
   "execution_count": null,
   "id": "electoral-application",
   "metadata": {},
   "outputs": [],
   "source": [
    "import numpy\n",
    "import numpy.random as ran"
   ]
  },
  {
   "cell_type": "code",
   "execution_count": null,
   "id": "athletic-parliament",
   "metadata": {},
   "outputs": [],
   "source": [
    "L = [1, 2, 3]\n",
    "A = numpy.array([1, 2, ran.randint(50)])"
   ]
  },
  {
   "cell_type": "code",
   "execution_count": null,
   "id": "ultimate-malpractice",
   "metadata": {},
   "outputs": [],
   "source": [
    "print(2*L)\n",
    "print(2*A)"
   ]
  },
  {
   "cell_type": "markdown",
   "id": "dense-liver",
   "metadata": {
    "slideshow": {
     "slide_type": "slide"
    }
   },
   "source": [
    "## Now everyone should be able to do basic Python!\n",
    "Time to demo our web platform and Python interface"
   ]
  }
 ],
 "metadata": {
  "celltoolbar": "Slideshow",
  "kernelspec": {
   "display_name": "Python 3",
   "language": "python",
   "name": "python3"
  },
  "language_info": {
   "codemirror_mode": {
    "name": "ipython",
    "version": 3
   },
   "file_extension": ".py",
   "mimetype": "text/x-python",
   "name": "python",
   "nbconvert_exporter": "python",
   "pygments_lexer": "ipython3",
   "version": "3.8.8"
  }
 },
 "nbformat": 4,
 "nbformat_minor": 5
}
